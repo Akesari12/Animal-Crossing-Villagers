{
 "cells": [
  {
   "cell_type": "code",
   "execution_count": 1,
   "metadata": {},
   "outputs": [],
   "source": [
    "import pandas as pd\n",
    "from selenium import webdriver\n",
    "from bs4 import BeautifulSoup\n",
    "import lxml.html as lh"
   ]
  },
  {
   "cell_type": "code",
   "execution_count": 2,
   "metadata": {},
   "outputs": [],
   "source": [
    "def init_driver(filepath):\n",
    "    driver = webdriver.Chrome(executable_path = filepath)\n",
    "    driver.wait = WebDriverWait(driver, 10)\n",
    "    return(driver)\n",
    "\n",
    "def navigate_to_website(driver, site):\n",
    "    driver.get(site)\n",
    "\n",
    "def get_html(driver):\n",
    "    output = []\n",
    "    output.append(driver.page_source)\n",
    "    return(output)"
   ]
  },
  {
   "cell_type": "code",
   "execution_count": 3,
   "metadata": {},
   "outputs": [],
   "source": [
    "# Initialize the webdriver.\n",
    "driver = webdriver.Chrome('C:/Program Files/chromedriver/chromedriver.exe')"
   ]
  },
  {
   "cell_type": "code",
   "execution_count": 4,
   "metadata": {},
   "outputs": [],
   "source": [
    "# Navigate to animal crossing wiki website\n",
    "navigate_to_website(driver, \"https://animalcrossing.fandom.com/wiki/Villager_list_(New_Horizons)\")"
   ]
  },
  {
   "cell_type": "code",
   "execution_count": 5,
   "metadata": {},
   "outputs": [],
   "source": [
    "soup = BeautifulSoup(driver.page_source, \"lxml\")"
   ]
  },
  {
   "cell_type": "code",
   "execution_count": 6,
   "metadata": {},
   "outputs": [],
   "source": [
    "tm_table = soup.find_all('table')"
   ]
  },
  {
   "cell_type": "code",
   "execution_count": 7,
   "metadata": {},
   "outputs": [],
   "source": [
    "tm_table = tm_table[2]"
   ]
  },
  {
   "cell_type": "code",
   "execution_count": 8,
   "metadata": {},
   "outputs": [],
   "source": [
    "entries = tm_table.find_all('td')"
   ]
  },
  {
   "cell_type": "code",
   "execution_count": 9,
   "metadata": {},
   "outputs": [],
   "source": [
    "cells = []\n",
    "for entry in entries:\n",
    "    cells.append(entry.text)"
   ]
  },
  {
   "cell_type": "code",
   "execution_count": 10,
   "metadata": {},
   "outputs": [],
   "source": [
    "# Break every 6 elements into a list of lists \n",
    "n = 6\n",
    "  \n",
    "# List comprehension to break the list at every 6 elements\n",
    "list_of_cells = [cells[i * n:(i + 1) * n] for i in range((len(cells) + n - 1) // n )]  "
   ]
  },
  {
   "cell_type": "code",
   "execution_count": 11,
   "metadata": {},
   "outputs": [],
   "source": [
    "df = pd.DataFrame(list_of_cells, columns=['Name', 'Image', 'Personality',\n",
    "                                 'Species', 'Birhtday', 'Catchphrase'])\n",
    "df = df.replace('\\n',' ', regex=True).drop(['Image'], axis = 1) \n",
    "df.to_csv(\"Animal Crossing New Horizons Villagers.csv\")"
   ]
  }
 ],
 "metadata": {
  "kernelspec": {
   "display_name": "Python 3",
   "language": "python",
   "name": "python3"
  },
  "language_info": {
   "codemirror_mode": {
    "name": "ipython",
    "version": 3
   },
   "file_extension": ".py",
   "mimetype": "text/x-python",
   "name": "python",
   "nbconvert_exporter": "python",
   "pygments_lexer": "ipython3",
   "version": "3.7.1"
  }
 },
 "nbformat": 4,
 "nbformat_minor": 2
}
